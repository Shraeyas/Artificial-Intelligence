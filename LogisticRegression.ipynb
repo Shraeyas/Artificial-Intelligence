{
 "cells": [
  {
   "cell_type": "markdown",
   "id": "b96bb78f-51c5-4fa9-8f18-0bb169a0c5cf",
   "metadata": {},
   "source": [
    "#### **Logistic Regression from Scratch**"
   ]
  },
  {
   "cell_type": "markdown",
   "id": "41517154-2f2d-44ad-802d-5900bc0f6001",
   "metadata": {},
   "source": [
    "##### **Import Important Libraries**"
   ]
  },
  {
   "cell_type": "code",
   "execution_count": 18,
   "id": "d074786c",
   "metadata": {},
   "outputs": [],
   "source": [
    "%matplotlib inline\n",
    "import numpy as np\n",
    "import pandas as pd\n",
    "import matplotlib.pyplot as plt\n",
    "import h5py\n",
    "import os"
   ]
  },
  {
   "cell_type": "markdown",
   "id": "3a40dc13-46a8-4f0b-9212-1f7e8803f61f",
   "metadata": {},
   "source": [
    "##### **Grab The Dataset**"
   ]
  },
  {
   "cell_type": "code",
   "execution_count": 375,
   "id": "30c2ab27-8151-48b2-8155-f9f8b39f4975",
   "metadata": {},
   "outputs": [
    {
     "name": "stdout",
     "output_type": "stream",
     "text": [
      "Shapes of Arrays :\n",
      "Training Set X : (12288, 209)\n",
      "Training Set Y : (209,)\n",
      "Test Set X : (12288, 50)\n",
      "Test Set Y : (50,)\n"
     ]
    }
   ],
   "source": []
  },
  {
   "cell_type": "markdown",
   "id": "ee8b9c8c-3c9a-43cf-91a2-ed008988df36",
   "metadata": {},
   "source": [
    "##### **Supporting Functions**"
   ]
  },
  {
   "cell_type": "code",
   "execution_count": 2,
   "id": "fdd2b75a-18e3-4976-a081-833c790ca1b9",
   "metadata": {},
   "outputs": [],
   "source": [
    "def Sigmoid (z) :\n",
    "    return 1/(1 + np.exp (-z))"
   ]
  },
  {
   "cell_type": "markdown",
   "id": "d041738a-2290-430c-8267-1803e33ce2be",
   "metadata": {},
   "source": [
    "##### **Initialize Weight Vector**"
   ]
  },
  {
   "cell_type": "markdown",
   "id": "7dc02d00-ba43-4f17-9284-dc489fc38d35",
   "metadata": {},
   "source": [
    "##### **Forward and Backward Propagation**"
   ]
  },
  {
   "cell_type": "code",
   "execution_count": 9,
   "id": "c5d8e65b-d955-4c5d-9b8c-29210e889896",
   "metadata": {},
   "outputs": [],
   "source": [
    "def Propogate (trainX, trainY, epochs, learningRate, weights, bias) :\n",
    "    m = len (trainY)\n",
    "    costs = []\n",
    "\n",
    "    while epochs != 0 :\n",
    "        epochs = epochs - 1\n",
    "        z = np.dot (weights, trainX) + bias\n",
    "        a = Sigmoid (z)\n",
    "        weights, bias, cost = GradientDescent (a, trainY, weights, bias, learningRate)\n",
    "        costs.append (cost)\n",
    "    return weights, bias, costs"
   ]
  },
  {
   "cell_type": "markdown",
   "id": "4ae5c43d-6ca1-47ec-8e7f-8ddecd1de3e5",
   "metadata": {},
   "source": [
    "##### **Gradient Descent**"
   ]
  },
  {
   "cell_type": "code",
   "execution_count": 10,
   "id": "083e375a-2ddf-42e6-98ca-e6940e37c0cc",
   "metadata": {},
   "outputs": [],
   "source": [
    "def GradientDescent (a, trainY, weights, bias, learningRate) :\n",
    "    m = len (trainY)\n",
    "    \n",
    "    cost_0 = np.dot (np.matrix (trainY), (np.log (a).T))\n",
    "    cost_1 = np.dot ((1 - np.matrix (trainY)), np.matrix (np.log (1 - a).T))\n",
    "    cost = -1/m * (cost_0 + cost_1)\n",
    "\n",
    "    dcost_dz =  (1/m * (a - trainY))\n",
    "    dcost_dw = np.matrix (1/m * np.dot (trainX, dcost_dz.T))\n",
    "    dcost_db = 1/m * np.sum (dcost_dz)\n",
    "\n",
    "    weights = weights - learningRate * dcost_dw.T\n",
    "    bias = bias - learningRate * dcost_db\n",
    "    \n",
    "    return weights, bias, cost"
   ]
  },
  {
   "cell_type": "markdown",
   "id": "738fec24-834d-4d14-b8cd-1a15314f9496",
   "metadata": {},
   "source": [
    "##### **Start Training**"
   ]
  },
  {
   "cell_type": "code",
   "execution_count": 11,
   "id": "68f1fba1-3bd9-4133-95b5-8b6270fe99ed",
   "metadata": {},
   "outputs": [],
   "source": [
    "def Train (trainX, trainY, epochs = 2000, learningRate = 0.05) :\n",
    "    \n",
    "    weights = np.matrix (np.zeros (trainX.shape [0]))\n",
    "    bias = 0\n",
    "    \n",
    "    weights, bias, costs = Propogate (trainX, trainY, epochs, learningRate, weights, bias)\n",
    "    return weights, bias, costs"
   ]
  },
  {
   "cell_type": "code",
   "execution_count": 19,
   "id": "72ffca1f-5cec-4a69-a482-73b34b3597c0",
   "metadata": {},
   "outputs": [],
   "source": [
    "def GetDataset (debug = False) :\n",
    "    train_catvnoncat = h5py.File (os.path.join (\"datasets\", \"train_catvnoncat.h5\"), 'r')\n",
    "    test_catvnoncat = h5py.File (os.path.join (\"datasets\", \"test_catvnoncat.h5\"), 'r')\n",
    "\n",
    "    trainX = np.array (train_catvnoncat ['train_set_x'])\n",
    "    trainX = trainX.reshape ([trainX.shape [0], -1]).T\n",
    "    trainX = trainX / 255\n",
    "    trainY = np.array (train_catvnoncat ['train_set_y'])\n",
    "\n",
    "    testX = np.array (test_catvnoncat ['test_set_x'])\n",
    "    testX = testX.reshape ([testX.shape [0], -1]).T\n",
    "    testX = testX / 255\n",
    "    testY = np.array (test_catvnoncat ['test_set_y'])\n",
    "    \n",
    "    if debug == True :\n",
    "        print (\"Shapes of Arrays :\")\n",
    "        print (\"Training Set X : \" + str (trainX.shape))\n",
    "        print (\"Training Set Y : \" + str (trainY.shape))\n",
    "        print (\"Test Set X : \" + str (testX.shape))\n",
    "        print (\"Test Set Y : \" + str (testY.shape))\n",
    "        \n",
    "    return trainX, trainY, testX, testY"
   ]
  },
  {
   "cell_type": "code",
   "execution_count": 20,
   "id": "59be4dba-0fc8-4e25-ae02-1e1f15a82576",
   "metadata": {},
   "outputs": [
    {
     "name": "stdout",
     "output_type": "stream",
     "text": [
      "Shapes of Arrays :\n",
      "Training Set X : (12288, 209)\n",
      "Training Set Y : (209,)\n",
      "Test Set X : (12288, 50)\n",
      "Test Set Y : (50,)\n"
     ]
    }
   ],
   "source": [
    "trainX, trainY, testX, testY = GetDataset (debug = True)\n",
    "weights, bias, costs = Train (trainX, trainY, epochs = 210000, learningRate = 0.055)"
   ]
  },
  {
   "cell_type": "code",
   "execution_count": 22,
   "id": "0d37524d-ca0b-4b19-9761-2142accf4117",
   "metadata": {},
   "outputs": [
    {
     "data": {
      "text/plain": [
       "[<matplotlib.lines.Line2D at 0x7fa4ef3c68b0>]"
      ]
     },
     "execution_count": 22,
     "metadata": {},
     "output_type": "execute_result"
    },
    {
     "data": {
      "image/png": "[encoded data removed]",
      "text/plain": [
       "<Figure size 432x288 with 1 Axes>"
      ]
     },
     "metadata": {
      "needs_background": "light"
     },
     "output_type": "display_data"
    }
   ],
   "source": [
    "x = np.arange (0, 210000, 1)\n",
    "costs = np.squeeze (costs)\n",
    "\n",
    "plt.plot (x, np.squeeze (costs))"
   ]
  },
  {
   "cell_type": "markdown",
   "id": "e07d8e5b-26f7-407e-9264-c38898d2165d",
   "metadata": {},
   "source": [
    "##### **Make Predictions**"
   ]
  },
  {
   "cell_type": "code",
   "execution_count": 24,
   "id": "b9f0c9e3-e5bc-46b3-be64-2dc1025129e1",
   "metadata": {},
   "outputs": [
    {
     "name": "stdout",
     "output_type": "stream",
     "text": [
      "Accuracy Percentage :  70.0\n"
     ]
    }
   ],
   "source": [
    "yPred = Sigmoid (np.dot (weights, testX) + bias)\n",
    "total = yPred.size\n",
    "testY = np.matrix (testY)\n",
    "\n",
    "count = 0\n",
    "for i in range (0, yPred.size) :\n",
    "    if (yPred [0, i] > 0.5) == (testY [0, i] == 1) :\n",
    "        count = count + 1\n",
    "\n",
    "print (\"Accuracy Percentage : \", count/total * 100)"
   ]
  }
 ],
 "metadata": {
  "kernelspec": {
   "display_name": "Python 3 (ipykernel)",
   "language": "python",
   "name": "python3"
  },
  "language_info": {
   "codemirror_mode": {
    "name": "ipython",
    "version": 3
   },
   "file_extension": ".py",
   "mimetype": "text/x-python",
   "name": "python",
   "nbconvert_exporter": "python",
   "pygments_lexer": "ipython3",
   "version": "3.9.7"
  }
 },
 "nbformat": 4,
 "nbformat_minor": 5
}
