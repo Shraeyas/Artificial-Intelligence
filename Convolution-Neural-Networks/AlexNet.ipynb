{
 "cells": [
  {
   "cell_type": "markdown",
   "id": "781312a3-0a09-450b-9458-fb544fc09ab8",
   "metadata": {},
   "source": [
    "# **Alexnet**\n",
    "##### **Alexnet has 8 layers**\n",
    "##### **Theres 5 Convolution Layers, and 3 Fully Connected Layers**\n",
    "##### **The features that make alexnet special are :**"
   ]
  },
  {
   "cell_type": "code",
   "execution_count": 2,
   "id": "739b9145-f1cf-4e6d-8295-5e39c41867cb",
   "metadata": {},
   "outputs": [],
   "source": [
    "import tensorflow as tf"
   ]
  },
  {
   "cell_type": "code",
   "execution_count": null,
   "id": "f99ad794-6268-4bf4-876b-96fb43ea24a6",
   "metadata": {},
   "outputs": [],
   "source": []
  },
  {
   "cell_type": "code",
   "execution_count": null,
   "id": "70f8c974-77b8-49c5-9118-72337c6839c9",
   "metadata": {},
   "outputs": [],
   "source": []
  }
 ],
 "metadata": {
  "kernelspec": {
   "display_name": "Python 3 (ipykernel)",
   "language": "python",
   "name": "python3"
  },
  "language_info": {
   "codemirror_mode": {
    "name": "ipython",
    "version": 3
   },
   "file_extension": ".py",
   "mimetype": "text/x-python",
   "name": "python",
   "nbconvert_exporter": "python",
   "pygments_lexer": "ipython3",
   "version": "3.7.11"
  }
 },
 "nbformat": 4,
 "nbformat_minor": 5
}
