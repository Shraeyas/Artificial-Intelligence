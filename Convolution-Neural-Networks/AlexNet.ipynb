{
  "nbformat": 4,
  "nbformat_minor": 5,
  "metadata": {
    "kernelspec": {
      "display_name": "Python 3",
      "language": "python",
      "name": "python3"
    },
    "language_info": {
      "codemirror_mode": {
        "name": "ipython",
        "version": 3
      },
      "file_extension": ".py",
      "mimetype": "text/x-python",
      "name": "python",
      "nbconvert_exporter": "python",
      "pygments_lexer": "ipython3",
      "version": "3.8.5"
    },
    "colab": {
      "name": "AlexNet.ipynb",
      "provenance": []
    },
    "accelerator": "GPU"
  },
  "cells": [
    {
      "cell_type": "markdown",
      "metadata": {
        "id": "781312a3-0a09-450b-9458-fb544fc09ab8"
      },
      "source": [
        "# **Alexnet**\n",
        "```\n",
        "Alexnet has 8 layers\n",
        "Theres 5 Convolution Layers, and 3 Fully Connected Layers\n",
        "```\n",
        "```\n",
        "The features that make alexnet special are :\n",
        "1. ReLU :\n",
        "   Alexnet uses ReLU instead of tanh. ReLU helps in improving training time.\n",
        "2. Data Augmentation :\n",
        "   a. Data is artificially created by rotating, flipping or zooming (etc.) into images.\n",
        "   b. They first performed PCA on the RGB pixels of the entire ImageNet training dataset.\n",
        "      They extracted the principal components for each of the channels.\n",
        "      They then add a random fraction of these principal components into each pixel of the image.\n",
        "      What it does to the image is that it changes the colour and intensity of the illumination.\n",
        "      Thus, it exploits a property of natural images that the label of the object is invariant of the illumination\n",
        "      parameters.\n",
        "3. Dropout Regularization :\n",
        "   Certain percentage of nodes (50%) are ignored.\n",
        "   Every iteration works on different set of nodes and each neuron will have different features to be extracted.\n",
        "   However, it will also increase the time required for training the model.\n",
        "```\n",
        "##### **Source : https://towardsdatascience.com/alexnet-8b05c5eb88d4**"
      ],
      "id": "781312a3-0a09-450b-9458-fb544fc09ab8"
    },
    {
      "cell_type": "markdown",
      "metadata": {
        "id": "2140f143-6135-40f3-ae20-553db5cb2a86"
      },
      "source": [
        "##### **Refer this link on how to implement the pre-built AlexNet**\n",
        "##### **https://analyticsindiamag.com/hands-on-guide-to-implementing-alexnet-with-keras-for-multi-class-image-classification/**"
      ],
      "id": "2140f143-6135-40f3-ae20-553db5cb2a86"
    },
    {
      "cell_type": "code",
      "metadata": {
        "id": "739b9145-f1cf-4e6d-8295-5e39c41867cb"
      },
      "source": [
        "import tensorflow as tf\n",
        "from tensorflow import keras\n",
        "import numpy as np\n",
        "import matplotlib.pyplot as plt"
      ],
      "id": "739b9145-f1cf-4e6d-8295-5e39c41867cb",
      "execution_count": 1,
      "outputs": []
    },
    {
      "cell_type": "markdown",
      "metadata": {
        "id": "15af5f4e-6060-45be-b487-d6b818a305b9"
      },
      "source": [
        "##### **Some Definitions**\n",
        "```\n",
        "Training Dataset : This is the group of our dataset used to train the neural network directly. Training data refers to the dataset partition exposed to the neural network during training.\n",
        "Validation Dataset : This group of the dataset is utilized during training to assess the performance of the network at various iterations.\n",
        "Test Dataset : This partition of the dataset evaluates the performance of our network after the completion of the training phase.\n",
        "```"
      ],
      "id": "15af5f4e-6060-45be-b487-d6b818a305b9"
    },
    {
      "cell_type": "code",
      "metadata": {
        "id": "f99ad794-6268-4bf4-876b-96fb43ea24a6"
      },
      "source": [
        "(train_x, train_y), (test_x, test_y) = keras.datasets.cifar10.load_data ()\n",
        "train_x = train_x [:5000]\n",
        "train_y = train_y [:5000]\n",
        "test_x = test_x [:500]\n",
        "test_y = test_y [:500]"
      ],
      "id": "f99ad794-6268-4bf4-876b-96fb43ea24a6",
      "execution_count": 2,
      "outputs": []
    },
    {
      "cell_type": "code",
      "metadata": {
        "id": "79fb5b7a-6fad-4e10-9e68-a20e07aa2584",
        "outputId": "79f55a21-7cc6-4567-b3ed-db515ea3543f",
        "colab": {
          "base_uri": "https://localhost:8080/"
        }
      },
      "source": [
        "print (train_x.shape, train_y.shape, test_x.shape, test_y.shape)"
      ],
      "id": "79fb5b7a-6fad-4e10-9e68-a20e07aa2584",
      "execution_count": 3,
      "outputs": [
        {
          "output_type": "stream",
          "name": "stdout",
          "text": [
            "(5000, 32, 32, 3) (5000, 1) (500, 32, 32, 3) (500, 1)\n"
          ]
        }
      ]
    },
    {
      "cell_type": "markdown",
      "metadata": {
        "id": "2f5e1c05-3b25-4078-b656-598d1b56a032"
      },
      "source": [
        "#### **Reshape the images**"
      ],
      "id": "2f5e1c05-3b25-4078-b656-598d1b56a032"
    },
    {
      "cell_type": "code",
      "metadata": {
        "id": "419db8c2-0d6c-4509-8a24-1678abb42eff",
        "outputId": "8e3c8054-cc9d-4b99-86fe-809683e80a6d",
        "colab": {
          "base_uri": "https://localhost:8080/"
        }
      },
      "source": [
        "train_x = tf.image.resize (train_x, [224, 224]).numpy ()\n",
        "test_x = tf.image.resize (test_x, [224, 224]).numpy ()\n",
        "\n",
        "print (train_x.shape, train_y.shape, test_x.shape, test_y.shape)"
      ],
      "id": "419db8c2-0d6c-4509-8a24-1678abb42eff",
      "execution_count": 4,
      "outputs": [
        {
          "output_type": "stream",
          "name": "stdout",
          "text": [
            "(5000, 224, 224, 3) (5000, 1) (500, 224, 224, 3) (500, 1)\n"
          ]
        }
      ]
    },
    {
      "cell_type": "code",
      "metadata": {
        "id": "70f8c974-77b8-49c5-9118-72337c6839c9"
      },
      "source": [
        "CLASS_NAMES = ['airplane',\n",
        "               'automobile',\n",
        "               'bird',\n",
        "               'cat',\n",
        "               'deer',\n",
        "               'dog',\n",
        "               'frog',\n",
        "               'horse',\n",
        "               'ship',\n",
        "               'truck']"
      ],
      "id": "70f8c974-77b8-49c5-9118-72337c6839c9",
      "execution_count": 5,
      "outputs": []
    },
    {
      "cell_type": "code",
      "metadata": {
        "id": "ad5b99de-c3c1-4957-95fa-42bbef87fd26"
      },
      "source": [
        "layer0 = keras.layers.Conv2D (filters = 96, kernel_size = (11, 11), strides = (4, 4), activation = 'relu', input_shape = (224, 224, 3))\n",
        "layer1 = keras.layers.BatchNormalization ()\n",
        "layer2 = keras.layers.MaxPool2D (pool_size = (3, 3), strides = (2, 2))\n",
        "layer3 = keras.layers.Conv2D (filters = 256, kernel_size = (5, 5), strides = (1, 1), activation = 'relu', padding = \"same\")\n",
        "layer4 = keras.layers.BatchNormalization ()\n",
        "layer5 = keras.layers.MaxPool2D (pool_size = (3, 3), strides = (2, 2))\n",
        "layer6 = keras.layers.Conv2D (filters = 384, kernel_size = (3, 3), strides = (1, 1), activation = 'relu', padding = \"same\")\n",
        "layer7 = keras.layers.BatchNormalization ()\n",
        "layer8 = keras.layers.Conv2D (filters = 384, kernel_size = (3, 3), strides = (1, 1), activation = 'relu', padding = \"same\")\n",
        "layer9 = keras.layers.BatchNormalization ()\n",
        "layer10 = keras.layers.Conv2D (filters = 256, kernel_size = (3, 3), strides = (1, 1), activation = 'relu', padding = \"same\")\n",
        "layer11 = keras.layers.BatchNormalization ()\n",
        "layer12 = keras.layers.MaxPool2D (pool_size = (3, 3), strides = (2, 2))\n",
        "layer13 = keras.layers.Flatten ()\n",
        "layer14 = keras.layers.Dense (4096, activation = 'relu')\n",
        "layer15 = keras.layers.Dropout (0.5)\n",
        "layer16 = keras.layers.Dense (4096, activation = 'relu')\n",
        "layer17 = keras.layers.Dropout (0.5)\n",
        "layer18 = keras.layers.Dense (10, activation = 'softmax')\n",
        "\n",
        "layers = [layer0, layer1, layer2, layer3, layer4, layer5, layer6, layer7, layer8,\n",
        "          layer9, layer10, layer11, layer12, layer13, layer14, layer15, layer16, layer17, layer18]"
      ],
      "id": "ad5b99de-c3c1-4957-95fa-42bbef87fd26",
      "execution_count": 8,
      "outputs": []
    },
    {
      "cell_type": "code",
      "metadata": {
        "id": "85ca9d64-bfc2-4412-9780-6d896c60c09f",
        "outputId": "d90acb2a-7ae9-4b6f-a513-a9d481b67b99",
        "colab": {
          "base_uri": "https://localhost:8080/"
        }
      },
      "source": [
        "model = keras.models.Sequential (layers)\n",
        "model.compile (optimizer = tf.keras.optimizers.SGD (learning_rate = 0.01, momentum = 0.9),\n",
        "               loss = keras.losses.sparse_categorical_crossentropy,\n",
        "               metrics = ['accuracy', tf.keras.metrics.TopKCategoricalAccuracy (5)])\n",
        "\n",
        "model.summary ()"
      ],
      "id": "85ca9d64-bfc2-4412-9780-6d896c60c09f",
      "execution_count": 9,
      "outputs": [
        {
          "output_type": "stream",
          "name": "stdout",
          "text": [
            "Model: \"sequential_1\"\n",
            "_________________________________________________________________\n",
            "Layer (type)                 Output Shape              Param #   \n",
            "=================================================================\n",
            "conv2d_5 (Conv2D)            (None, 54, 54, 96)        34944     \n",
            "_________________________________________________________________\n",
            "batch_normalization_5 (Batch (None, 54, 54, 96)        384       \n",
            "_________________________________________________________________\n",
            "max_pooling2d_3 (MaxPooling2 (None, 26, 26, 96)        0         \n",
            "_________________________________________________________________\n",
            "conv2d_6 (Conv2D)            (None, 26, 26, 256)       614656    \n",
            "_________________________________________________________________\n",
            "batch_normalization_6 (Batch (None, 26, 26, 256)       1024      \n",
            "_________________________________________________________________\n",
            "max_pooling2d_4 (MaxPooling2 (None, 12, 12, 256)       0         \n",
            "_________________________________________________________________\n",
            "conv2d_7 (Conv2D)            (None, 12, 12, 384)       885120    \n",
            "_________________________________________________________________\n",
            "batch_normalization_7 (Batch (None, 12, 12, 384)       1536      \n",
            "_________________________________________________________________\n",
            "conv2d_8 (Conv2D)            (None, 12, 12, 384)       1327488   \n",
            "_________________________________________________________________\n",
            "batch_normalization_8 (Batch (None, 12, 12, 384)       1536      \n",
            "_________________________________________________________________\n",
            "conv2d_9 (Conv2D)            (None, 12, 12, 256)       884992    \n",
            "_________________________________________________________________\n",
            "batch_normalization_9 (Batch (None, 12, 12, 256)       1024      \n",
            "_________________________________________________________________\n",
            "max_pooling2d_5 (MaxPooling2 (None, 5, 5, 256)         0         \n",
            "_________________________________________________________________\n",
            "flatten_1 (Flatten)          (None, 6400)              0         \n",
            "_________________________________________________________________\n",
            "dense_3 (Dense)              (None, 4096)              26218496  \n",
            "_________________________________________________________________\n",
            "dropout_2 (Dropout)          (None, 4096)              0         \n",
            "_________________________________________________________________\n",
            "dense_4 (Dense)              (None, 4096)              16781312  \n",
            "_________________________________________________________________\n",
            "dropout_3 (Dropout)          (None, 4096)              0         \n",
            "_________________________________________________________________\n",
            "dense_5 (Dense)              (None, 10)                40970     \n",
            "=================================================================\n",
            "Total params: 46,793,482\n",
            "Trainable params: 46,790,730\n",
            "Non-trainable params: 2,752\n",
            "_________________________________________________________________\n"
          ]
        }
      ]
    },
    {
      "cell_type": "code",
      "metadata": {
        "id": "4805d3e7-e8ae-4169-9c6f-430740550db9",
        "outputId": "225230ed-23e5-4028-ded8-8d071079a533",
        "colab": {
          "base_uri": "https://localhost:8080/"
        }
      },
      "source": [
        "model.fit (train_x,\n",
        "           train_y,\n",
        "           batch_size = 256,\n",
        "           epochs = 100)"
      ],
      "id": "4805d3e7-e8ae-4169-9c6f-430740550db9",
      "execution_count": 10,
      "outputs": [
        {
          "output_type": "stream",
          "name": "stdout",
          "text": [
            "Epoch 1/100\n",
            "40/40 [==============================] - 16s 249ms/step - loss: 3.7760 - accuracy: 0.1914 - top_k_categorical_accuracy: 0.4322\n",
            "Epoch 2/100\n",
            "40/40 [==============================] - 9s 235ms/step - loss: 2.1926 - accuracy: 0.2716 - top_k_categorical_accuracy: 0.4408\n",
            "Epoch 3/100\n",
            "40/40 [==============================] - 9s 236ms/step - loss: 1.9902 - accuracy: 0.3224 - top_k_categorical_accuracy: 0.4388\n",
            "Epoch 4/100\n",
            "40/40 [==============================] - 9s 236ms/step - loss: 1.8204 - accuracy: 0.3644 - top_k_categorical_accuracy: 0.4442\n",
            "Epoch 5/100\n",
            "40/40 [==============================] - 10s 238ms/step - loss: 1.6895 - accuracy: 0.4084 - top_k_categorical_accuracy: 0.4642\n",
            "Epoch 6/100\n",
            "40/40 [==============================] - 9s 235ms/step - loss: 1.6302 - accuracy: 0.4124 - top_k_categorical_accuracy: 0.4464\n",
            "Epoch 7/100\n",
            "40/40 [==============================] - 9s 235ms/step - loss: 1.5552 - accuracy: 0.4384 - top_k_categorical_accuracy: 0.4938\n",
            "Epoch 8/100\n",
            "40/40 [==============================] - 9s 236ms/step - loss: 1.5044 - accuracy: 0.4530 - top_k_categorical_accuracy: 0.4358\n",
            "Epoch 9/100\n",
            "40/40 [==============================] - 9s 235ms/step - loss: 1.4367 - accuracy: 0.4768 - top_k_categorical_accuracy: 0.4628\n",
            "Epoch 10/100\n",
            "40/40 [==============================] - 9s 235ms/step - loss: 1.3960 - accuracy: 0.5000 - top_k_categorical_accuracy: 0.4590\n",
            "Epoch 11/100\n",
            "40/40 [==============================] - 9s 235ms/step - loss: 1.3334 - accuracy: 0.5090 - top_k_categorical_accuracy: 0.4648\n",
            "Epoch 12/100\n",
            "40/40 [==============================] - 9s 236ms/step - loss: 1.2403 - accuracy: 0.5538 - top_k_categorical_accuracy: 0.5066\n",
            "Epoch 13/100\n",
            "40/40 [==============================] - 9s 236ms/step - loss: 1.2012 - accuracy: 0.5738 - top_k_categorical_accuracy: 0.4944\n",
            "Epoch 14/100\n",
            "40/40 [==============================] - 9s 234ms/step - loss: 1.1438 - accuracy: 0.5840 - top_k_categorical_accuracy: 0.4912\n",
            "Epoch 15/100\n",
            "40/40 [==============================] - 9s 236ms/step - loss: 1.1114 - accuracy: 0.5994 - top_k_categorical_accuracy: 0.4888\n",
            "Epoch 16/100\n",
            "40/40 [==============================] - 9s 236ms/step - loss: 1.0794 - accuracy: 0.6070 - top_k_categorical_accuracy: 0.4872\n",
            "Epoch 17/100\n",
            "40/40 [==============================] - 9s 236ms/step - loss: 1.0108 - accuracy: 0.6354 - top_k_categorical_accuracy: 0.4976\n",
            "Epoch 18/100\n",
            "40/40 [==============================] - 9s 236ms/step - loss: 0.9867 - accuracy: 0.6474 - top_k_categorical_accuracy: 0.4866\n",
            "Epoch 19/100\n",
            "40/40 [==============================] - 9s 234ms/step - loss: 0.9157 - accuracy: 0.6708 - top_k_categorical_accuracy: 0.5104\n",
            "Epoch 20/100\n",
            "40/40 [==============================] - 9s 235ms/step - loss: 0.8631 - accuracy: 0.6870 - top_k_categorical_accuracy: 0.4906\n",
            "Epoch 21/100\n",
            "40/40 [==============================] - 9s 237ms/step - loss: 0.7990 - accuracy: 0.7184 - top_k_categorical_accuracy: 0.5034\n",
            "Epoch 22/100\n",
            "40/40 [==============================] - 9s 236ms/step - loss: 0.7523 - accuracy: 0.7246 - top_k_categorical_accuracy: 0.4966\n",
            "Epoch 23/100\n",
            "40/40 [==============================] - 9s 236ms/step - loss: 0.6611 - accuracy: 0.7590 - top_k_categorical_accuracy: 0.5008\n",
            "Epoch 24/100\n",
            "40/40 [==============================] - 9s 236ms/step - loss: 0.6217 - accuracy: 0.7812 - top_k_categorical_accuracy: 0.5016\n",
            "Epoch 25/100\n",
            "40/40 [==============================] - 9s 236ms/step - loss: 0.6815 - accuracy: 0.7586 - top_k_categorical_accuracy: 0.4966\n",
            "Epoch 26/100\n",
            "40/40 [==============================] - 9s 236ms/step - loss: 0.5638 - accuracy: 0.8034 - top_k_categorical_accuracy: 0.5140\n",
            "Epoch 27/100\n",
            "40/40 [==============================] - 9s 236ms/step - loss: 0.5810 - accuracy: 0.7930 - top_k_categorical_accuracy: 0.5026\n",
            "Epoch 28/100\n",
            "40/40 [==============================] - 10s 239ms/step - loss: 0.5058 - accuracy: 0.8246 - top_k_categorical_accuracy: 0.4832\n",
            "Epoch 29/100\n",
            "40/40 [==============================] - 9s 235ms/step - loss: 0.4756 - accuracy: 0.8378 - top_k_categorical_accuracy: 0.5174\n",
            "Epoch 30/100\n",
            "40/40 [==============================] - 9s 234ms/step - loss: 0.3914 - accuracy: 0.8610 - top_k_categorical_accuracy: 0.4974\n",
            "Epoch 31/100\n",
            "40/40 [==============================] - 9s 236ms/step - loss: 0.3680 - accuracy: 0.8694 - top_k_categorical_accuracy: 0.5132\n",
            "Epoch 32/100\n",
            "40/40 [==============================] - 9s 235ms/step - loss: 0.3169 - accuracy: 0.8918 - top_k_categorical_accuracy: 0.5300\n",
            "Epoch 33/100\n",
            "40/40 [==============================] - 9s 236ms/step - loss: 0.3919 - accuracy: 0.8714 - top_k_categorical_accuracy: 0.4940\n",
            "Epoch 34/100\n",
            "40/40 [==============================] - 9s 235ms/step - loss: 0.4114 - accuracy: 0.8596 - top_k_categorical_accuracy: 0.4948\n",
            "Epoch 35/100\n",
            "40/40 [==============================] - 9s 236ms/step - loss: 0.3771 - accuracy: 0.8670 - top_k_categorical_accuracy: 0.5106\n",
            "Epoch 36/100\n",
            "40/40 [==============================] - 9s 234ms/step - loss: 0.3400 - accuracy: 0.8888 - top_k_categorical_accuracy: 0.5224\n",
            "Epoch 37/100\n",
            "40/40 [==============================] - 9s 235ms/step - loss: 0.2588 - accuracy: 0.9096 - top_k_categorical_accuracy: 0.5046\n",
            "Epoch 38/100\n",
            "40/40 [==============================] - 9s 234ms/step - loss: 0.1708 - accuracy: 0.9430 - top_k_categorical_accuracy: 0.5022\n",
            "Epoch 39/100\n",
            "40/40 [==============================] - 9s 237ms/step - loss: 0.4402 - accuracy: 0.8556 - top_k_categorical_accuracy: 0.5100\n",
            "Epoch 40/100\n",
            "40/40 [==============================] - 9s 236ms/step - loss: 0.2877 - accuracy: 0.8954 - top_k_categorical_accuracy: 0.4780\n",
            "Epoch 41/100\n",
            "40/40 [==============================] - 9s 234ms/step - loss: 0.1795 - accuracy: 0.9396 - top_k_categorical_accuracy: 0.5116\n",
            "Epoch 42/100\n",
            "40/40 [==============================] - 9s 235ms/step - loss: 0.2539 - accuracy: 0.9154 - top_k_categorical_accuracy: 0.5248\n",
            "Epoch 43/100\n",
            "40/40 [==============================] - 9s 236ms/step - loss: 0.2616 - accuracy: 0.9114 - top_k_categorical_accuracy: 0.5232\n",
            "Epoch 44/100\n",
            "40/40 [==============================] - 9s 236ms/step - loss: 0.3591 - accuracy: 0.8824 - top_k_categorical_accuracy: 0.5318\n",
            "Epoch 45/100\n",
            "40/40 [==============================] - 9s 236ms/step - loss: 0.3190 - accuracy: 0.8984 - top_k_categorical_accuracy: 0.4820\n",
            "Epoch 46/100\n",
            "40/40 [==============================] - 9s 234ms/step - loss: 0.2804 - accuracy: 0.9126 - top_k_categorical_accuracy: 0.5080\n",
            "Epoch 47/100\n",
            "40/40 [==============================] - 9s 236ms/step - loss: 0.2605 - accuracy: 0.9150 - top_k_categorical_accuracy: 0.5322\n",
            "Epoch 48/100\n",
            "40/40 [==============================] - 9s 234ms/step - loss: 0.2724 - accuracy: 0.9072 - top_k_categorical_accuracy: 0.5124\n",
            "Epoch 49/100\n",
            "40/40 [==============================] - 9s 236ms/step - loss: 0.1963 - accuracy: 0.9322 - top_k_categorical_accuracy: 0.5124\n",
            "Epoch 50/100\n",
            "40/40 [==============================] - 9s 236ms/step - loss: 0.2766 - accuracy: 0.9156 - top_k_categorical_accuracy: 0.4976\n",
            "Epoch 51/100\n",
            "40/40 [==============================] - 9s 236ms/step - loss: 0.2452 - accuracy: 0.9274 - top_k_categorical_accuracy: 0.5304\n",
            "Epoch 52/100\n",
            "40/40 [==============================] - 9s 234ms/step - loss: 0.2293 - accuracy: 0.9262 - top_k_categorical_accuracy: 0.5176\n",
            "Epoch 53/100\n",
            "40/40 [==============================] - 9s 235ms/step - loss: 0.1046 - accuracy: 0.9628 - top_k_categorical_accuracy: 0.4970\n",
            "Epoch 54/100\n",
            "40/40 [==============================] - 9s 235ms/step - loss: 0.1554 - accuracy: 0.9504 - top_k_categorical_accuracy: 0.5308\n",
            "Epoch 55/100\n",
            "40/40 [==============================] - 9s 235ms/step - loss: 0.1876 - accuracy: 0.9378 - top_k_categorical_accuracy: 0.5238\n",
            "Epoch 56/100\n",
            "40/40 [==============================] - 9s 237ms/step - loss: 0.2136 - accuracy: 0.9310 - top_k_categorical_accuracy: 0.4982\n",
            "Epoch 57/100\n",
            "40/40 [==============================] - 9s 236ms/step - loss: 0.2759 - accuracy: 0.9152 - top_k_categorical_accuracy: 0.5428\n",
            "Epoch 58/100\n",
            "40/40 [==============================] - 9s 236ms/step - loss: 0.2140 - accuracy: 0.9282 - top_k_categorical_accuracy: 0.5352\n",
            "Epoch 59/100\n",
            "40/40 [==============================] - 9s 237ms/step - loss: 0.1030 - accuracy: 0.9636 - top_k_categorical_accuracy: 0.5336\n",
            "Epoch 60/100\n",
            "40/40 [==============================] - 9s 235ms/step - loss: 0.1812 - accuracy: 0.9460 - top_k_categorical_accuracy: 0.5322\n",
            "Epoch 61/100\n",
            "40/40 [==============================] - 9s 235ms/step - loss: 0.1990 - accuracy: 0.9372 - top_k_categorical_accuracy: 0.5140\n",
            "Epoch 62/100\n",
            "40/40 [==============================] - 9s 236ms/step - loss: 0.1231 - accuracy: 0.9576 - top_k_categorical_accuracy: 0.5298\n",
            "Epoch 63/100\n",
            "40/40 [==============================] - 9s 236ms/step - loss: 0.1146 - accuracy: 0.9608 - top_k_categorical_accuracy: 0.5274\n",
            "Epoch 64/100\n",
            "40/40 [==============================] - 9s 235ms/step - loss: 0.1453 - accuracy: 0.9550 - top_k_categorical_accuracy: 0.5198\n",
            "Epoch 65/100\n",
            "40/40 [==============================] - 9s 235ms/step - loss: 0.0923 - accuracy: 0.9718 - top_k_categorical_accuracy: 0.5036\n",
            "Epoch 66/100\n",
            "40/40 [==============================] - 9s 234ms/step - loss: 0.0647 - accuracy: 0.9784 - top_k_categorical_accuracy: 0.5208\n",
            "Epoch 67/100\n",
            "40/40 [==============================] - 9s 236ms/step - loss: 0.0513 - accuracy: 0.9822 - top_k_categorical_accuracy: 0.5042\n",
            "Epoch 68/100\n",
            "40/40 [==============================] - 9s 236ms/step - loss: 0.0623 - accuracy: 0.9796 - top_k_categorical_accuracy: 0.5246\n",
            "Epoch 69/100\n",
            "40/40 [==============================] - 9s 236ms/step - loss: 0.0397 - accuracy: 0.9860 - top_k_categorical_accuracy: 0.5070\n",
            "Epoch 70/100\n",
            "40/40 [==============================] - 10s 238ms/step - loss: 0.0392 - accuracy: 0.9876 - top_k_categorical_accuracy: 0.5266\n",
            "Epoch 71/100\n",
            "40/40 [==============================] - 9s 235ms/step - loss: 0.0301 - accuracy: 0.9914 - top_k_categorical_accuracy: 0.5230\n",
            "Epoch 72/100\n",
            "40/40 [==============================] - 9s 235ms/step - loss: 0.0277 - accuracy: 0.9902 - top_k_categorical_accuracy: 0.5266\n",
            "Epoch 73/100\n",
            "40/40 [==============================] - 9s 237ms/step - loss: 0.0281 - accuracy: 0.9922 - top_k_categorical_accuracy: 0.5258\n",
            "Epoch 74/100\n",
            "40/40 [==============================] - 9s 236ms/step - loss: 0.0760 - accuracy: 0.9796 - top_k_categorical_accuracy: 0.4780\n",
            "Epoch 75/100\n",
            "40/40 [==============================] - 9s 236ms/step - loss: 0.0622 - accuracy: 0.9812 - top_k_categorical_accuracy: 0.4988\n",
            "Epoch 76/100\n",
            "40/40 [==============================] - 9s 236ms/step - loss: 0.0378 - accuracy: 0.9872 - top_k_categorical_accuracy: 0.5470\n",
            "Epoch 77/100\n",
            "40/40 [==============================] - 9s 237ms/step - loss: 0.0696 - accuracy: 0.9812 - top_k_categorical_accuracy: 0.5428\n",
            "Epoch 78/100\n",
            "40/40 [==============================] - 9s 237ms/step - loss: 0.0904 - accuracy: 0.9726 - top_k_categorical_accuracy: 0.5498\n",
            "Epoch 79/100\n",
            "40/40 [==============================] - 9s 236ms/step - loss: 0.1364 - accuracy: 0.9590 - top_k_categorical_accuracy: 0.5406\n",
            "Epoch 80/100\n",
            "40/40 [==============================] - 9s 236ms/step - loss: 0.0563 - accuracy: 0.9804 - top_k_categorical_accuracy: 0.5624\n",
            "Epoch 81/100\n",
            "40/40 [==============================] - 9s 235ms/step - loss: 0.0372 - accuracy: 0.9874 - top_k_categorical_accuracy: 0.5270\n",
            "Epoch 82/100\n",
            "40/40 [==============================] - 9s 236ms/step - loss: 0.0299 - accuracy: 0.9900 - top_k_categorical_accuracy: 0.5512\n",
            "Epoch 83/100\n",
            "40/40 [==============================] - 9s 236ms/step - loss: 0.0867 - accuracy: 0.9720 - top_k_categorical_accuracy: 0.5294\n",
            "Epoch 84/100\n",
            "40/40 [==============================] - 9s 236ms/step - loss: 0.0377 - accuracy: 0.9874 - top_k_categorical_accuracy: 0.5398\n",
            "Epoch 85/100\n",
            "40/40 [==============================] - 10s 239ms/step - loss: 0.0260 - accuracy: 0.9912 - top_k_categorical_accuracy: 0.5226\n",
            "Epoch 86/100\n",
            "40/40 [==============================] - 9s 234ms/step - loss: 0.0917 - accuracy: 0.9710 - top_k_categorical_accuracy: 0.5526\n",
            "Epoch 87/100\n",
            "40/40 [==============================] - 9s 235ms/step - loss: 0.1032 - accuracy: 0.9686 - top_k_categorical_accuracy: 0.5392\n",
            "Epoch 88/100\n",
            "40/40 [==============================] - 9s 235ms/step - loss: 0.1244 - accuracy: 0.9630 - top_k_categorical_accuracy: 0.5150\n",
            "Epoch 89/100\n",
            "40/40 [==============================] - 9s 235ms/step - loss: 0.4802 - accuracy: 0.8872 - top_k_categorical_accuracy: 0.4982\n",
            "Epoch 90/100\n",
            "40/40 [==============================] - 9s 235ms/step - loss: 0.2262 - accuracy: 0.9294 - top_k_categorical_accuracy: 0.5186\n",
            "Epoch 91/100\n",
            "40/40 [==============================] - 9s 236ms/step - loss: 0.1064 - accuracy: 0.9648 - top_k_categorical_accuracy: 0.5252\n",
            "Epoch 92/100\n",
            "40/40 [==============================] - 9s 236ms/step - loss: 0.0579 - accuracy: 0.9802 - top_k_categorical_accuracy: 0.4882\n",
            "Epoch 93/100\n",
            "40/40 [==============================] - 10s 238ms/step - loss: 0.0420 - accuracy: 0.9836 - top_k_categorical_accuracy: 0.5180\n",
            "Epoch 94/100\n",
            "40/40 [==============================] - 9s 236ms/step - loss: 0.0357 - accuracy: 0.9880 - top_k_categorical_accuracy: 0.4886\n",
            "Epoch 95/100\n",
            "40/40 [==============================] - 9s 236ms/step - loss: 0.0308 - accuracy: 0.9900 - top_k_categorical_accuracy: 0.4968\n",
            "Epoch 96/100\n",
            "40/40 [==============================] - 9s 235ms/step - loss: 0.1563 - accuracy: 0.9562 - top_k_categorical_accuracy: 0.4830\n",
            "Epoch 97/100\n",
            "40/40 [==============================] - 9s 236ms/step - loss: 0.0713 - accuracy: 0.9768 - top_k_categorical_accuracy: 0.4998\n",
            "Epoch 98/100\n",
            "40/40 [==============================] - 9s 236ms/step - loss: 0.0340 - accuracy: 0.9872 - top_k_categorical_accuracy: 0.4908\n",
            "Epoch 99/100\n",
            "40/40 [==============================] - 9s 236ms/step - loss: 0.0466 - accuracy: 0.9840 - top_k_categorical_accuracy: 0.5004\n",
            "Epoch 100/100\n",
            "40/40 [==============================] - 9s 235ms/step - loss: 0.0262 - accuracy: 0.9918 - top_k_categorical_accuracy: 0.5096\n"
          ]
        },
        {
          "output_type": "execute_result",
          "data": {
            "text/plain": [
              "<keras.callbacks.History at 0x7f2cb0097e10>"
            ]
          },
          "metadata": {},
          "execution_count": 10
        }
      ]
    }
  ]
}