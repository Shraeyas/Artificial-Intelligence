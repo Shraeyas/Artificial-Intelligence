{
 "cells": [
  {
   "cell_type": "markdown",
   "id": "e92ce3d4-8918-4bac-815b-4b7d6ccdffc7",
   "metadata": {},
   "source": [
    "# **LeNet**\n",
    "##### **Lenet-5 has 7 layers**\n",
    "##### **They are :**\n",
    "##### **1. 3 Convolution layers**\n",
    "##### **2. 2 Average pooling layers**\n",
    "##### **3. 2 Fully connected layers**\n",
    "\n",
    "### **The layers in LeNet**\n",
    "##### **1.** The first layer is the input layer which is 32x32\n",
    "##### However, the dataset that we're going to use (MNIST) has images of size 28x28.\n",
    "##### Therefore, the images will need to be padded to 32x32\n",
    "##### **2.** The (grayscale) images are then normalized from (0, 255) to (0, 1)"
   ]
  },
  {
   "cell_type": "code",
   "execution_count": 104,
   "id": "32d67a07-9bf8-468c-ae8a-81e4019f87fd",
   "metadata": {},
   "outputs": [],
   "source": [
    "import tensorflow as tf\n",
    "from tensorflow import keras\n",
    "import numpy as np"
   ]
  },
  {
   "cell_type": "code",
   "execution_count": 105,
   "id": "0f5356dd-5f7d-4cb9-a3f1-e279570c7791",
   "metadata": {},
   "outputs": [],
   "source": [
    "(train_x, train_y), (test_x, test_y) = tf.keras.datasets.mnist.load_data ()"
   ]
  },
  {
   "cell_type": "code",
   "execution_count": 106,
   "id": "c0f098f6-25a3-4ebd-af50-ab8dec16cb9f",
   "metadata": {},
   "outputs": [
    {
     "name": "stdout",
     "output_type": "stream",
     "text": [
      "(60000, 28, 28)\n",
      "(10000, 28, 28)\n"
     ]
    }
   ],
   "source": [
    "train_x = train_x / 255.0\n",
    "test_x = test_x / 255.0\n",
    "print (train_x.shape)\n",
    "print (test_x.shape)"
   ]
  },
  {
   "cell_type": "code",
   "execution_count": 107,
   "id": "d071974d-6c21-43fd-b97b-3a80b9e4135f",
   "metadata": {},
   "outputs": [
    {
     "name": "stdout",
     "output_type": "stream",
     "text": [
      "(60000, 28, 28, 1)\n",
      "(10000, 28, 28, 1)\n"
     ]
    }
   ],
   "source": [
    "train_x = tf.expand_dims(train_x, 3)\n",
    "test_x = tf.expand_dims(test_x, 3)\n",
    "print (train_x.shape)\n",
    "print (test_x.shape)"
   ]
  },
  {
   "cell_type": "code",
   "execution_count": 129,
   "id": "5505b63f-29e1-458a-8fd1-f5f996c01898",
   "metadata": {},
   "outputs": [],
   "source": [
    "layer0 = keras.layers.Conv2D (filters = 6,\n",
    "                              kernel_size = 5,\n",
    "                              strides = 1,\n",
    "                              activation = 'tanh',\n",
    "                              input_shape = train_x [0].shape,\n",
    "                              padding = 'same')\n",
    "layer1 = keras.layers.AveragePooling2D ()\n",
    "\n",
    "layer2 = keras.layers.Conv2D (filters = 16,\n",
    "                              kernel_size = 5,\n",
    "                              strides = 1,\n",
    "                              activation = 'tanh',\n",
    "                              padding = 'valid')\n",
    "layer3 = keras.layers.AveragePooling2D ()\n",
    "\n",
    "layer4 = keras.layers.Conv2D (filters = 120,\n",
    "                              kernel_size = 5,\n",
    "                              strides = 1,\n",
    "                              activation='tanh')\n",
    "\n",
    "layer5 = keras.layers.Flatten ()\n",
    "layer6 = keras.layers.Dense (84, activation = 'tanh')\n",
    "layer7 = keras.layers.Dense (10, activation = 'softmax')\n",
    "\n",
    "layers = [layer0, layer1, layer2, layer3, layer4, layer5, layer6, layer7]"
   ]
  },
  {
   "cell_type": "code",
   "execution_count": 130,
   "id": "3e265e08-5dc2-4fbc-9b1d-5df3c7cd3891",
   "metadata": {},
   "outputs": [
    {
     "name": "stdout",
     "output_type": "stream",
     "text": [
      "Model: \"sequential_12\"\n",
      "_________________________________________________________________\n",
      "Layer (type)                 Output Shape              Param #   \n",
      "=================================================================\n",
      "conv2d_27 (Conv2D)           (None, 28, 28, 6)         156       \n",
      "_________________________________________________________________\n",
      "average_pooling2d_18 (Averag (None, 14, 14, 6)         0         \n",
      "_________________________________________________________________\n",
      "conv2d_28 (Conv2D)           (None, 10, 10, 16)        2416      \n",
      "_________________________________________________________________\n",
      "average_pooling2d_19 (Averag (None, 5, 5, 16)          0         \n",
      "_________________________________________________________________\n",
      "conv2d_29 (Conv2D)           (None, 1, 1, 120)         48120     \n",
      "_________________________________________________________________\n",
      "flatten_9 (Flatten)          (None, 120)               0         \n",
      "_________________________________________________________________\n",
      "dense_18 (Dense)             (None, 84)                10164     \n",
      "_________________________________________________________________\n",
      "dense_19 (Dense)             (None, 10)                850       \n",
      "=================================================================\n",
      "Total params: 61,706\n",
      "Trainable params: 61,706\n",
      "Non-trainable params: 0\n",
      "_________________________________________________________________\n"
     ]
    }
   ],
   "source": [
    "lenet_5_model = tf.keras.models.Sequential (layers)\n",
    "lenet_5_model_decay = tf.keras.models.Sequential (layers)\n",
    "lenet_5_model.summary ()"
   ]
  },
  {
   "cell_type": "markdown",
   "id": "5c7345b6-90b9-4992-bb57-c5d88daada18",
   "metadata": {},
   "source": [
    "#### Optimizers\n",
    "`w = w - alpha * dW`\n",
    "##### 1. Momentum Optimizer :\n",
    "```\n",
    "w = w - alpha * VdW\n",
    "VdW = Beta_1 * VdW_prev + (1 - Beta_1) * dW\n",
    "```\n",
    "##### 2. RMSProp Optimizer :\n",
    "```\n",
    "w = w - alpha * dW / (sqrt (SdW + epsilon))\n",
    "SdW = Beta_2 * SdW_prev + (1 - Beta_2) * dW * dW\n",
    "```\n",
    "##### 3. Adam Optimizer :\n",
    "```\n",
    "Combine Both Momentum and RMSProp optimizers\n",
    "w = w - alpha * VdW / (sqrt (SdW + epsilon))\n",
    "```"
   ]
  },
  {
   "cell_type": "code",
   "execution_count": 122,
   "id": "70135d95-328f-44c4-86a3-9867000743a8",
   "metadata": {},
   "outputs": [],
   "source": [
    "learning_rate = 0.001\n",
    "\n",
    "optimizer = tf.keras.optimizers.Adam (learning_rate = learning_rate,\n",
    "                                      beta_1 = 0.9,\n",
    "                                      beta_2 = 0.999,\n",
    "                                      epsilon = 1e-08)"
   ]
  },
  {
   "cell_type": "code",
   "execution_count": 123,
   "id": "5e13a020-7bb3-4237-aedf-5aa0430ce515",
   "metadata": {},
   "outputs": [],
   "source": [
    "lenet_5_model.compile (optimizer = optimizer,\n",
    "                       loss = keras.losses.sparse_categorical_crossentropy,\n",
    "                       metrics = ['accuracy'])"
   ]
  },
  {
   "cell_type": "code",
   "execution_count": 124,
   "id": "d7c2005b-bdb5-459d-b8d8-1f451665130b",
   "metadata": {},
   "outputs": [
    {
     "name": "stdout",
     "output_type": "stream",
     "text": [
      "Epoch 1/10\n",
      "1875/1875 [==============================] - 19s 10ms/step - loss: 0.2196 - accuracy: 0.9348\n",
      "Epoch 2/10\n",
      "1875/1875 [==============================] - 21s 11ms/step - loss: 0.0872 - accuracy: 0.9733\n",
      "Epoch 3/10\n",
      "1875/1875 [==============================] - 22s 12ms/step - loss: 0.0616 - accuracy: 0.9801\n",
      "Epoch 4/10\n",
      "1875/1875 [==============================] - 22s 12ms/step - loss: 0.0475 - accuracy: 0.9850\n",
      "Epoch 5/10\n",
      "1875/1875 [==============================] - 20s 11ms/step - loss: 0.0382 - accuracy: 0.9880\n",
      "Epoch 6/10\n",
      "1875/1875 [==============================] - 19s 10ms/step - loss: 0.0309 - accuracy: 0.9903\n",
      "Epoch 7/10\n",
      "1875/1875 [==============================] - 19s 10ms/step - loss: 0.0255 - accuracy: 0.9919\n",
      "Epoch 8/10\n",
      "1875/1875 [==============================] - 22s 12ms/step - loss: 0.0236 - accuracy: 0.9921\n",
      "Epoch 9/10\n",
      "1875/1875 [==============================] - 22s 12ms/step - loss: 0.0192 - accuracy: 0.9937\n",
      "Epoch 10/10\n",
      "1875/1875 [==============================] - 21s 11ms/step - loss: 0.0172 - accuracy: 0.9945\n"
     ]
    }
   ],
   "source": [
    "fitModel = lenet_5_model.fit (train_x, train_y, epochs = 10)"
   ]
  },
  {
   "cell_type": "markdown",
   "id": "9553406a-3a76-442b-8dba-9e0bfa438c91",
   "metadata": {},
   "source": [
    "#### **Training the model with a decaying learning rate**\n",
    "---"
   ]
  },
  {
   "cell_type": "code",
   "execution_count": 131,
   "id": "cf3371be-26c2-4073-88d6-0fe4d8e60788",
   "metadata": {},
   "outputs": [],
   "source": [
    "initial_learning_rate = 0.001\n",
    "lr_schedule = tf.keras.optimizers.schedules.ExponentialDecay(\n",
    "    initial_learning_rate,\n",
    "    decay_steps=550,\n",
    "    decay_rate=0.96,\n",
    "    staircase=True)\n",
    "\n",
    "optimizer = tf.keras.optimizers.Adam (learning_rate = lr_schedule,\n",
    "                                      beta_1 = 0.9,\n",
    "                                      beta_2 = 0.999,\n",
    "                                      epsilon = 1e-08)"
   ]
  },
  {
   "cell_type": "code",
   "execution_count": 132,
   "id": "5f795f25-bc51-4cd9-bb72-22d57fd74430",
   "metadata": {},
   "outputs": [],
   "source": [
    "lenet_5_model_decay.compile (optimizer = optimizer,\n",
    "                       loss = keras.losses.sparse_categorical_crossentropy,\n",
    "                       metrics = ['accuracy'])"
   ]
  },
  {
   "cell_type": "code",
   "execution_count": 133,
   "id": "687ab136-860b-4d46-8301-7386f95bd514",
   "metadata": {},
   "outputs": [
    {
     "name": "stdout",
     "output_type": "stream",
     "text": [
      "Epoch 1/10\n",
      "1875/1875 [==============================] - 19s 10ms/step - loss: 0.2278 - accuracy: 0.9302\n",
      "Epoch 2/10\n",
      "1875/1875 [==============================] - 22s 12ms/step - loss: 0.0853 - accuracy: 0.9737\n",
      "Epoch 3/10\n",
      "1875/1875 [==============================] - 20s 11ms/step - loss: 0.0583 - accuracy: 0.9819\n",
      "Epoch 4/10\n",
      "1875/1875 [==============================] - 21s 11ms/step - loss: 0.0425 - accuracy: 0.9865\n",
      "Epoch 5/10\n",
      "1875/1875 [==============================] - 21s 11ms/step - loss: 0.0307 - accuracy: 0.9905\n",
      "Epoch 6/10\n",
      "1875/1875 [==============================] - 21s 11ms/step - loss: 0.0232 - accuracy: 0.9930\n",
      "Epoch 7/10\n",
      "1875/1875 [==============================] - 21s 11ms/step - loss: 0.0170 - accuracy: 0.9954\n",
      "Epoch 8/10\n",
      "1875/1875 [==============================] - 22s 12ms/step - loss: 0.0129 - accuracy: 0.9966\n",
      "Epoch 9/10\n",
      "1875/1875 [==============================] - 21s 11ms/step - loss: 0.0098 - accuracy: 0.9976\n",
      "Epoch 10/10\n",
      "1875/1875 [==============================] - 20s 11ms/step - loss: 0.0076 - accuracy: 0.9983\n"
     ]
    }
   ],
   "source": [
    "fitModel = lenet_5_model_decay.fit (train_x, train_y, epochs = 10)"
   ]
  },
  {
   "cell_type": "code",
   "execution_count": 134,
   "id": "82ceb4a3-4504-481c-a1c8-274c29c6c51d",
   "metadata": {},
   "outputs": [
    {
     "data": {
      "text/plain": [
       "[<matplotlib.lines.Line2D at 0x2435f94d190>]"
      ]
     },
     "execution_count": 134,
     "metadata": {},
     "output_type": "execute_result"
    },
    {
     "data": {
      "image/png": "[encoded data removed]",
      "text/plain": [
       "<Figure size 432x288 with 1 Axes>"
      ]
     },
     "metadata": {
      "needs_background": "light"
     },
     "output_type": "display_data"
    }
   ],
   "source": [
    "import matplotlib.pyplot as plt\n",
    "%matplotlib inline\n",
    "\n",
    "plt.xlabel ('Epoch Number')\n",
    "plt.ylabel (\"Loss Magnitude\")\n",
    "\n",
    "plt.plot (fitModel.history ['loss'])"
   ]
  },
  {
   "cell_type": "code",
   "execution_count": 139,
   "id": "194efd59-a772-4c58-8074-4f55b6ceb1a2",
   "metadata": {},
   "outputs": [
    {
     "name": "stdout",
     "output_type": "stream",
     "text": [
      "Evaluate on test data\n",
      "313/313 [==============================] - 1s 4ms/step - loss: 0.0440 - accuracy: 0.9874\n",
      "test loss, test acc: [0.04397938400506973, 0.9873999953269958]\n"
     ]
    }
   ],
   "source": [
    "print (\"Evaluate on test data\")\n",
    "results = lenet_5_model_decay.evaluate (test_x, test_y)\n",
    "print (\"test loss, test acc:\", results)"
   ]
  }
 ],
 "metadata": {
  "kernelspec": {
   "display_name": "Python 3",
   "language": "python",
   "name": "python3"
  },
  "language_info": {
   "codemirror_mode": {
    "name": "ipython",
    "version": 3
   },
   "file_extension": ".py",
   "mimetype": "text/x-python",
   "name": "python",
   "nbconvert_exporter": "python",
   "pygments_lexer": "ipython3",
   "version": "3.8.5"
  }
 },
 "nbformat": 4,
 "nbformat_minor": 5
}
