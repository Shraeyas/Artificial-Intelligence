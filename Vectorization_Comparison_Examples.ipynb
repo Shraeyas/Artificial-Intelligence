{
 "cells": [
  {
   "cell_type": "code",
   "execution_count": 1,
   "id": "fd3d5a70",
   "metadata": {},
   "outputs": [],
   "source": [
    "import numpy as np\n",
    "import time\n",
    "import matplotlib.pyplot as plt"
   ]
  },
  {
   "cell_type": "code",
   "execution_count": 7,
   "id": "e0d3c997",
   "metadata": {},
   "outputs": [
    {
     "name": "stdout",
     "output_type": "stream",
     "text": [
      "For Loop Time (ms) : 631.6101551055908\n",
      "Vectorization Time (ms) : 1.3701915740966797\n"
     ]
    }
   ],
   "source": [
    "a = np.random.rand (1000000)\n",
    "b = np.random.rand (1000000)\n",
    "c = 0\n",
    "\n",
    "tick = time.time ()\n",
    "for i in range (1000000) :\n",
    "    c = c + a[i] * b[i]\n",
    "tock = time.time ()\n",
    "\n",
    "print (\"For Loop Time (ms) : \" + str (1000 * (tock - tick)))\n",
    "\n",
    "tick = time.time ()\n",
    "c = np.dot (a, b)\n",
    "tock = time.time ()\n",
    "\n",
    "print (\"Vectorization Time (ms) : \" + str (1000 * (tock - tick)))"
   ]
  },
  {
   "cell_type": "markdown",
   "id": "f71ee92c",
   "metadata": {},
   "source": [
    "#### **For Loop is Much Slower than Vectorization**\n",
    "##### In-Built operations like np.dot make much better use of parallelization in CPUs and GPUs"
   ]
  },
  {
   "cell_type": "markdown",
   "id": "268ca8cd",
   "metadata": {},
   "source": [
    "#### **Vectorization Examples**"
   ]
  },
  {
   "cell_type": "markdown",
   "id": "950ca5a0",
   "metadata": {},
   "source": [
    "##### **1. Matrix Multiplication**"
   ]
  },
  {
   "cell_type": "code",
   "execution_count": 28,
   "id": "2c84bf67",
   "metadata": {},
   "outputs": [
    {
     "name": "stdout",
     "output_type": "stream",
     "text": [
      "For Loop Time (ms) : 1908.6296558380127\n",
      "Vectorization Time (ms) : 0.9164810180664062\n"
     ]
    }
   ],
   "source": [
    "a = np.random.rand (100, 100)\n",
    "b = np.random.rand (100, 100)\n",
    "c = np.zeros ((100, 100))\n",
    "\n",
    "tick = time.time ()\n",
    "for i in range (100) :\n",
    "    for j in range (100) :\n",
    "        for k in range (100) :\n",
    "            c[i][j] = c[i][j] + a[i][k] * b[k][j]\n",
    "tock = time.time ()\n",
    "\n",
    "#print (c)\n",
    "print (\"For Loop Time (ms) : \" + str (1000 * (tock - tick)))\n",
    "\n",
    "tick = time.time ()\n",
    "c = np.dot (a, b)\n",
    "tock = time.time ()\n",
    "\n",
    "#print (c)\n",
    "print (\"Vectorization Time (ms) : \" + str (1000 * (tock - tick)))"
   ]
  },
  {
   "cell_type": "markdown",
   "id": "f100dfc7",
   "metadata": {},
   "source": [
    "##### **2. Exponentiation**"
   ]
  },
  {
   "cell_type": "code",
   "execution_count": 35,
   "id": "d2e8c03a",
   "metadata": {},
   "outputs": [
    {
     "name": "stdout",
     "output_type": "stream",
     "text": [
      "For Loop Time (ms) : 2230.7703495025635\n",
      "Vectorization Time (ms) : 12.494564056396484\n"
     ]
    }
   ],
   "source": [
    "a = np.random.rand (1000000)\n",
    "b = np.zeros (1000000)\n",
    "\n",
    "tick = time.time ()\n",
    "for i in range (1000000) :\n",
    "    b[i] = np.exp (a[i])\n",
    "tock = time.time ()\n",
    "\n",
    "print (\"For Loop Time (ms) : \" + str (1000 * (tock - tick)))\n",
    "\n",
    "tick = time.time ()\n",
    "b = np.exp (a)\n",
    "tock = time.time ()\n",
    "\n",
    "print (\"Vectorization Time (ms) : \" + str (1000 * (tock - tick)))"
   ]
  }
 ],
 "metadata": {
  "kernelspec": {
   "display_name": "Python 3",
   "language": "python",
   "name": "python3"
  },
  "language_info": {
   "codemirror_mode": {
    "name": "ipython",
    "version": 3
   },
   "file_extension": ".py",
   "mimetype": "text/x-python",
   "name": "python",
   "nbconvert_exporter": "python",
   "pygments_lexer": "ipython3",
   "version": "3.9.4"
  }
 },
 "nbformat": 4,
 "nbformat_minor": 5
}
