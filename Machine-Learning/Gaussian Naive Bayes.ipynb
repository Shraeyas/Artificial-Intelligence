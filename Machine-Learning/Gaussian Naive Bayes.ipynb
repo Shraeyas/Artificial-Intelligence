{
 "cells": [
  {
   "cell_type": "code",
   "execution_count": 42,
   "metadata": {},
   "outputs": [],
   "source": [
    "import numpy as np\n",
    "import pandas as pd\n",
    "import matplotlib.pyplot as plt"
   ]
  },
  {
   "cell_type": "markdown",
   "metadata": {},
   "source": [
    "#### **Generate Random weather data**"
   ]
  },
  {
   "cell_type": "code",
   "execution_count": null,
   "metadata": {},
   "outputs": [],
   "source": [
    "# temperature\n",
    "# precipitation (percentage)\n",
    "# rain or not"
   ]
  },
  {
   "cell_type": "code",
   "execution_count": 43,
   "metadata": {},
   "outputs": [
    {
     "data": {
      "text/html": [
       "<div>\n",
       "<style scoped>\n",
       "    .dataframe tbody tr th:only-of-type {\n",
       "        vertical-align: middle;\n",
       "    }\n",
       "\n",
       "    .dataframe tbody tr th {\n",
       "        vertical-align: top;\n",
       "    }\n",
       "\n",
       "    .dataframe thead th {\n",
       "        text-align: right;\n",
       "    }\n",
       "</style>\n",
       "<table border=\"1\" class=\"dataframe\">\n",
       "  <thead>\n",
       "    <tr style=\"text-align: right;\">\n",
       "      <th></th>\n",
       "      <th>date</th>\n",
       "      <th>precipitation</th>\n",
       "      <th>temp_max</th>\n",
       "      <th>temp_min</th>\n",
       "      <th>wind</th>\n",
       "      <th>weather</th>\n",
       "    </tr>\n",
       "  </thead>\n",
       "  <tbody>\n",
       "    <tr>\n",
       "      <th>0</th>\n",
       "      <td>2012-01-01</td>\n",
       "      <td>0.0</td>\n",
       "      <td>12.8</td>\n",
       "      <td>5.0</td>\n",
       "      <td>4.7</td>\n",
       "      <td>drizzle</td>\n",
       "    </tr>\n",
       "    <tr>\n",
       "      <th>1</th>\n",
       "      <td>2012-01-02</td>\n",
       "      <td>10.9</td>\n",
       "      <td>10.6</td>\n",
       "      <td>2.8</td>\n",
       "      <td>4.5</td>\n",
       "      <td>rain</td>\n",
       "    </tr>\n",
       "    <tr>\n",
       "      <th>2</th>\n",
       "      <td>2012-01-03</td>\n",
       "      <td>0.8</td>\n",
       "      <td>11.7</td>\n",
       "      <td>7.2</td>\n",
       "      <td>2.3</td>\n",
       "      <td>rain</td>\n",
       "    </tr>\n",
       "    <tr>\n",
       "      <th>3</th>\n",
       "      <td>2012-01-04</td>\n",
       "      <td>20.3</td>\n",
       "      <td>12.2</td>\n",
       "      <td>5.6</td>\n",
       "      <td>4.7</td>\n",
       "      <td>rain</td>\n",
       "    </tr>\n",
       "    <tr>\n",
       "      <th>4</th>\n",
       "      <td>2012-01-05</td>\n",
       "      <td>1.3</td>\n",
       "      <td>8.9</td>\n",
       "      <td>2.8</td>\n",
       "      <td>6.1</td>\n",
       "      <td>rain</td>\n",
       "    </tr>\n",
       "    <tr>\n",
       "      <th>...</th>\n",
       "      <td>...</td>\n",
       "      <td>...</td>\n",
       "      <td>...</td>\n",
       "      <td>...</td>\n",
       "      <td>...</td>\n",
       "      <td>...</td>\n",
       "    </tr>\n",
       "    <tr>\n",
       "      <th>1456</th>\n",
       "      <td>2015-12-27</td>\n",
       "      <td>8.6</td>\n",
       "      <td>4.4</td>\n",
       "      <td>1.7</td>\n",
       "      <td>2.9</td>\n",
       "      <td>rain</td>\n",
       "    </tr>\n",
       "    <tr>\n",
       "      <th>1457</th>\n",
       "      <td>2015-12-28</td>\n",
       "      <td>1.5</td>\n",
       "      <td>5.0</td>\n",
       "      <td>1.7</td>\n",
       "      <td>1.3</td>\n",
       "      <td>rain</td>\n",
       "    </tr>\n",
       "    <tr>\n",
       "      <th>1458</th>\n",
       "      <td>2015-12-29</td>\n",
       "      <td>0.0</td>\n",
       "      <td>7.2</td>\n",
       "      <td>0.6</td>\n",
       "      <td>2.6</td>\n",
       "      <td>fog</td>\n",
       "    </tr>\n",
       "    <tr>\n",
       "      <th>1459</th>\n",
       "      <td>2015-12-30</td>\n",
       "      <td>0.0</td>\n",
       "      <td>5.6</td>\n",
       "      <td>-1.0</td>\n",
       "      <td>3.4</td>\n",
       "      <td>sun</td>\n",
       "    </tr>\n",
       "    <tr>\n",
       "      <th>1460</th>\n",
       "      <td>2015-12-31</td>\n",
       "      <td>0.0</td>\n",
       "      <td>5.6</td>\n",
       "      <td>-2.1</td>\n",
       "      <td>3.5</td>\n",
       "      <td>sun</td>\n",
       "    </tr>\n",
       "  </tbody>\n",
       "</table>\n",
       "<p>1461 rows × 6 columns</p>\n",
       "</div>"
      ],
      "text/plain": [
       "            date  precipitation  temp_max  temp_min  wind  weather\n",
       "0     2012-01-01            0.0      12.8       5.0   4.7  drizzle\n",
       "1     2012-01-02           10.9      10.6       2.8   4.5     rain\n",
       "2     2012-01-03            0.8      11.7       7.2   2.3     rain\n",
       "3     2012-01-04           20.3      12.2       5.6   4.7     rain\n",
       "4     2012-01-05            1.3       8.9       2.8   6.1     rain\n",
       "...          ...            ...       ...       ...   ...      ...\n",
       "1456  2015-12-27            8.6       4.4       1.7   2.9     rain\n",
       "1457  2015-12-28            1.5       5.0       1.7   1.3     rain\n",
       "1458  2015-12-29            0.0       7.2       0.6   2.6      fog\n",
       "1459  2015-12-30            0.0       5.6      -1.0   3.4      sun\n",
       "1460  2015-12-31            0.0       5.6      -2.1   3.5      sun\n",
       "\n",
       "[1461 rows x 6 columns]"
      ]
     },
     "execution_count": 43,
     "metadata": {},
     "output_type": "execute_result"
    }
   ],
   "source": [
    "data = pd.read_csv (\"weather_data.csv\")\n",
    "data"
   ]
  },
  {
   "cell_type": "code",
   "execution_count": 44,
   "metadata": {},
   "outputs": [],
   "source": [
    "train_set_size = 1200"
   ]
  },
  {
   "cell_type": "code",
   "execution_count": 45,
   "metadata": {},
   "outputs": [
    {
     "data": {
      "text/plain": [
       "array([8.9 , 6.7 , 9.45, ..., 9.45, 7.8 , 7.25])"
      ]
     },
     "execution_count": 45,
     "metadata": {},
     "output_type": "execute_result"
    }
   ],
   "source": [
    "temperatures = (data.temp_max.head (train_set_size).values + data.temp_min.head (train_set_size).values)/2\n",
    "temperatures"
   ]
  },
  {
   "cell_type": "code",
   "execution_count": 46,
   "metadata": {},
   "outputs": [
    {
     "data": {
      "text/plain": [
       "array([ 0. , 10.9,  0.8, ...,  0. , 14. ,  3.3])"
      ]
     },
     "execution_count": 46,
     "metadata": {},
     "output_type": "execute_result"
    }
   ],
   "source": [
    "precipitation = data.precipitation.head (train_set_size).values\n",
    "precipitation"
   ]
  },
  {
   "cell_type": "code",
   "execution_count": 49,
   "metadata": {},
   "outputs": [
    {
     "data": {
      "text/plain": [
       "array(['drizzle', 'rain', 'rain', ..., 'sun', 'rain', 'rain'],\n",
       "      dtype=object)"
      ]
     },
     "execution_count": 49,
     "metadata": {},
     "output_type": "execute_result"
    }
   ],
   "source": [
    "rainy = data.weather.head (train_set_size).values\n",
    "rainy"
   ]
  },
  {
   "cell_type": "code",
   "execution_count": 55,
   "metadata": {},
   "outputs": [],
   "source": [
    "temp_rainy = []\n",
    "ppt_rainy = []\n",
    "\n",
    "temp_not_rainy = []\n",
    "ppt_not_rainy = []\n",
    "\n",
    "for i in range (len (rainy)) :\n",
    "    if rainy [i] == 'rain' :\n",
    "        temp_rainy.append (temperatures [i])\n",
    "        ppt_rainy.append (precipitation [i])\n",
    "    \n",
    "    else :\n",
    "        temp_not_rainy.append (temperatures [i])\n",
    "        ppt_not_rainy.append (precipitation [i])"
   ]
  },
  {
   "cell_type": "code",
   "execution_count": 59,
   "metadata": {},
   "outputs": [
    {
     "name": "stdout",
     "output_type": "stream",
     "text": [
      "Rainy :\n",
      "count    551.000000\n",
      "mean      10.431670\n",
      "std        4.211839\n",
      "min        1.950000\n",
      "25%        7.200000\n",
      "50%        9.750000\n",
      "75%       12.800000\n",
      "max       26.700000\n",
      "dtype: float64 10.431669691470056 4.21183934423038\n",
      "\n",
      "Not Rainy :\n",
      "count    649.000000\n",
      "mean      12.974422\n",
      "std        6.744912\n",
      "min       -3.800000\n",
      "25%        7.750000\n",
      "50%       14.400000\n",
      "75%       18.600000\n",
      "max       26.350000\n",
      "dtype: float64 12.97442218798151 6.744912395481265\n"
     ]
    }
   ],
   "source": [
    "stats_temp_rainy = pd.Series (temp_rainy).describe ()\n",
    "\n",
    "mean_temp_rainy = stats_temp_rainy ['mean']\n",
    "std_temp_rainy = stats_temp_rainy ['std']\n",
    "print (\"Rainy :\")\n",
    "print (stats_temp_rainy, mean_temp_rainy, std_temp_rainy)\n",
    "\n",
    "stats_temp_not_rainy = pd.Series (temp_not_rainy).describe ()\n",
    "\n",
    "mean_temp_not_rainy = stats_temp_not_rainy ['mean']\n",
    "std_temp_not_rainy = stats_temp_not_rainy ['std']\n",
    "\n",
    "print (\"\\nNot Rainy :\")\n",
    "print (stats_temp_not_rainy, mean_temp_not_rainy, std_temp_not_rainy)"
   ]
  },
  {
   "cell_type": "code",
   "execution_count": 60,
   "metadata": {},
   "outputs": [
    {
     "name": "stdout",
     "output_type": "stream",
     "text": [
      "Rainy :\n",
      "count    551.000000\n",
      "mean       6.245735\n",
      "std        8.146650\n",
      "min        0.000000\n",
      "25%        0.800000\n",
      "50%        3.300000\n",
      "75%        8.500000\n",
      "max       55.900000\n",
      "dtype: float64 6.245735027223231 8.146649894539916\n",
      "\n",
      "Not Rainy :\n",
      "count    649.000000\n",
      "mean       0.342681\n",
      "std        2.172609\n",
      "min        0.000000\n",
      "25%        0.000000\n",
      "50%        0.000000\n",
      "75%        0.000000\n",
      "max       23.900000\n",
      "dtype: float64 0.34268104776579356 2.1726085671550326\n"
     ]
    }
   ],
   "source": [
    "stats_ppt_rainy = pd.Series (ppt_rainy).describe ()\n",
    "\n",
    "mean_ppt_rainy = stats_ppt_rainy ['mean']\n",
    "std_ppt_rainy = stats_ppt_rainy ['std']\n",
    "print (\"Rainy :\")\n",
    "print (stats_ppt_rainy, mean_ppt_rainy, std_ppt_rainy)\n",
    "\n",
    "stats_ppt_not_rainy = pd.Series (ppt_not_rainy).describe ()\n",
    "\n",
    "mean_ppt_not_rainy = stats_ppt_not_rainy ['mean']\n",
    "std_ppt_not_rainy = stats_ppt_not_rainy ['std']\n",
    "\n",
    "print (\"\\nNot Rainy :\")\n",
    "print (stats_ppt_not_rainy, mean_ppt_not_rainy, std_ppt_not_rainy)"
   ]
  },
  {
   "cell_type": "code",
   "execution_count": 50,
   "metadata": {},
   "outputs": [],
   "source": [
    "rainy_days = 0\n",
    "total_days = len (rainy)\n",
    "for i in range (len (rainy)) :\n",
    "    if rainy [i] == 'rain' :\n",
    "        rainy_days = rainy_days + 1\n",
    "\n",
    "prior_prob_rainy = rainy_days/total_days\n",
    "prior_prob_not_rainy = 1 - prior_prob_rainy"
   ]
  },
  {
   "cell_type": "code",
   "execution_count": 51,
   "metadata": {},
   "outputs": [],
   "source": [
    "def gaussian_likelihood (x, mean, std) :\n",
    "    gaussian = 1/math.sqrt (2 * math.pi * std**2)\n",
    "    gaussian = gaussian + math.exp (-(x - mean)**2/(2 * std**2))\n",
    "    \n",
    "    return gaussian"
   ]
  },
  {
   "cell_type": "code",
   "execution_count": 52,
   "metadata": {},
   "outputs": [],
   "source": [
    "test_size = len (data) - train_set_size\n",
    "test_temp = (data.temp_max.tail (test_size).values + data.temp_min.tail (test_size).values)/2\n",
    "test_ppt = data.precipitation.tail (test_size).values\n",
    "\n",
    "test_rainy = data.weather.tail (test_size).values"
   ]
  },
  {
   "cell_type": "code",
   "execution_count": 62,
   "metadata": {},
   "outputs": [],
   "source": [
    "import math\n",
    "pred_rainy = []\n",
    "\n",
    "for i in range (len (test_temp)) :\n",
    "    likelihood_rainy = prior_prob_rainy * gaussian_likelihood (test_temp [i], mean_temp_rainy, std_temp_rainy) * gaussian_likelihood (test_ppt [i], mean_ppt_rainy, std_ppt_rainy)\n",
    "    likelihood_not_rainy = prior_prob_not_rainy * gaussian_likelihood (test_temp [i], mean_temp_not_rainy, std_temp_not_rainy) * gaussian_likelihood (test_ppt [i], mean_ppt_not_rainy, std_ppt_not_rainy)\n",
    "    \n",
    "    if likelihood_rainy > likelihood_not_rainy :\n",
    "        pred_rainy.append (\"rain\")\n",
    "        \n",
    "    else :\n",
    "        pred_rainy.append (\"no rain\")"
   ]
  },
  {
   "cell_type": "code",
   "execution_count": 67,
   "metadata": {},
   "outputs": [
    {
     "name": "stdout",
     "output_type": "stream",
     "text": [
      "0.8045977011494253\n"
     ]
    }
   ],
   "source": [
    "rainy = 0\n",
    "not_rainy = 0\n",
    "for i in range (len (pred_rainy)) :\n",
    "    if pred_rainy [i] == test_rainy [i] and pred_rainy [i] == \"rain\" :\n",
    "        rainy = rainy + 1\n",
    "    elif pred_rainy [i] != test_rainy [i] and pred_rainy [i] != \"rain\" and test_rainy [i] != 'rain' :\n",
    "        not_rainy = not_rainy + 1\n",
    "        \n",
    "print ((rainy + not_rainy)/(len (pred_rainy)))"
   ]
  }
 ],
 "metadata": {
  "kernelspec": {
   "display_name": "Python 3",
   "language": "python",
   "name": "python3"
  },
  "language_info": {
   "codemirror_mode": {
    "name": "ipython",
    "version": 3
   },
   "file_extension": ".py",
   "mimetype": "text/x-python",
   "name": "python",
   "nbconvert_exporter": "python",
   "pygments_lexer": "ipython3",
   "version": "3.8.5"
  }
 },
 "nbformat": 4,
 "nbformat_minor": 4
}
