{
 "cells": [
  {
   "cell_type": "code",
   "execution_count": 2,
   "id": "ae393daf-50d5-4726-9479-594cbda23071",
   "metadata": {},
   "outputs": [],
   "source": [
    "import os\n",
    "import numpy as np\n",
    "import pandas as pd\n",
    "import matplotlib.pyplot as plt"
   ]
  },
  {
   "cell_type": "code",
   "execution_count": 3,
   "id": "da102503-ce30-4b6d-abd4-cc0597200a18",
   "metadata": {},
   "outputs": [
    {
     "data": {
      "text/html": [
       "<div>\n",
       "<style scoped>\n",
       "    .dataframe tbody tr th:only-of-type {\n",
       "        vertical-align: middle;\n",
       "    }\n",
       "\n",
       "    .dataframe tbody tr th {\n",
       "        vertical-align: top;\n",
       "    }\n",
       "\n",
       "    .dataframe thead th {\n",
       "        text-align: right;\n",
       "    }\n",
       "</style>\n",
       "<table border=\"1\" class=\"dataframe\">\n",
       "  <thead>\n",
       "    <tr style=\"text-align: right;\">\n",
       "      <th></th>\n",
       "      <th>Fruit</th>\n",
       "      <th>Long</th>\n",
       "      <th>Sweet</th>\n",
       "      <th>Yellow</th>\n",
       "    </tr>\n",
       "  </thead>\n",
       "  <tbody>\n",
       "    <tr>\n",
       "      <th>0</th>\n",
       "      <td>Orange</td>\n",
       "      <td>0</td>\n",
       "      <td>1</td>\n",
       "      <td>0</td>\n",
       "    </tr>\n",
       "    <tr>\n",
       "      <th>1</th>\n",
       "      <td>Banana</td>\n",
       "      <td>1</td>\n",
       "      <td>0</td>\n",
       "      <td>1</td>\n",
       "    </tr>\n",
       "    <tr>\n",
       "      <th>2</th>\n",
       "      <td>Banana</td>\n",
       "      <td>1</td>\n",
       "      <td>1</td>\n",
       "      <td>1</td>\n",
       "    </tr>\n",
       "    <tr>\n",
       "      <th>3</th>\n",
       "      <td>Other</td>\n",
       "      <td>1</td>\n",
       "      <td>1</td>\n",
       "      <td>0</td>\n",
       "    </tr>\n",
       "  </tbody>\n",
       "</table>\n",
       "</div>"
      ],
      "text/plain": [
       "    Fruit  Long  Sweet  Yellow\n",
       "0  Orange     0      1       0\n",
       "1  Banana     1      0       1\n",
       "2  Banana     1      1       1\n",
       "3   Other     1      1       0"
      ]
     },
     "execution_count": 3,
     "metadata": {},
     "output_type": "execute_result"
    }
   ],
   "source": [
    "data = pd.read_csv (os.path.join (\"datasets\", \"fruits_naive_bayes.csv\"))\n",
    "data"
   ]
  },
  {
   "cell_type": "code",
   "execution_count": 4,
   "id": "04bd7d5f-63e4-4daa-834c-7b8bb31cb574",
   "metadata": {},
   "outputs": [
    {
     "data": {
      "text/html": [
       "<div>\n",
       "<style scoped>\n",
       "    .dataframe tbody tr th:only-of-type {\n",
       "        vertical-align: middle;\n",
       "    }\n",
       "\n",
       "    .dataframe tbody tr th {\n",
       "        vertical-align: top;\n",
       "    }\n",
       "\n",
       "    .dataframe thead th {\n",
       "        text-align: right;\n",
       "    }\n",
       "</style>\n",
       "<table border=\"1\" class=\"dataframe\">\n",
       "  <thead>\n",
       "    <tr style=\"text-align: right;\">\n",
       "      <th></th>\n",
       "      <th>Long</th>\n",
       "      <th>Sweet</th>\n",
       "      <th>Yellow</th>\n",
       "    </tr>\n",
       "  </thead>\n",
       "  <tbody>\n",
       "    <tr>\n",
       "      <th>0</th>\n",
       "      <td>0</td>\n",
       "      <td>1</td>\n",
       "      <td>0</td>\n",
       "    </tr>\n",
       "    <tr>\n",
       "      <th>1</th>\n",
       "      <td>1</td>\n",
       "      <td>0</td>\n",
       "      <td>1</td>\n",
       "    </tr>\n",
       "    <tr>\n",
       "      <th>2</th>\n",
       "      <td>1</td>\n",
       "      <td>1</td>\n",
       "      <td>1</td>\n",
       "    </tr>\n",
       "    <tr>\n",
       "      <th>3</th>\n",
       "      <td>1</td>\n",
       "      <td>1</td>\n",
       "      <td>0</td>\n",
       "    </tr>\n",
       "  </tbody>\n",
       "</table>\n",
       "</div>"
      ],
      "text/plain": [
       "   Long  Sweet  Yellow\n",
       "0     0      1       0\n",
       "1     1      0       1\n",
       "2     1      1       1\n",
       "3     1      1       0"
      ]
     },
     "execution_count": 4,
     "metadata": {},
     "output_type": "execute_result"
    }
   ],
   "source": [
    "data_x = data.iloc [:, 1:] # Rows, Columns (Takes all rows and except 1st Column)\n",
    "data_x"
   ]
  },
  {
   "cell_type": "code",
   "execution_count": 5,
   "id": "ce391dc4-ad73-48ef-b3ed-c8a558ac3f79",
   "metadata": {},
   "outputs": [
    {
     "data": {
      "text/plain": [
       "array(['Orange', 'Banana', 'Banana', 'Other'], dtype=object)"
      ]
     },
     "execution_count": 5,
     "metadata": {},
     "output_type": "execute_result"
    }
   ],
   "source": [
    "data_y = data.iloc [:, 0] # Rows, Columns (Takes all rows and only 1st Column)\n",
    "data_y.values"
   ]
  },
  {
   "cell_type": "code",
   "execution_count": 6,
   "id": "7d5203a4-3ae8-4c55-95a1-02b0ed8212c5",
   "metadata": {},
   "outputs": [
    {
     "data": {
      "image/png": "[encoded data removed]",
      "text/plain": [
       "<Figure size 432x288 with 1 Axes>"
      ]
     },
     "metadata": {
      "needs_background": "light"
     },
     "output_type": "display_data"
    },
    {
     "data": {
      "image/png": "[encoded data removed]",
      "text/plain": [
       "<Figure size 432x288 with 1 Axes>"
      ]
     },
     "metadata": {
      "needs_background": "light"
     },
     "output_type": "display_data"
    },
    {
     "data": {
      "image/png": "[encoded data removed]",
      "text/plain": [
       "<Figure size 432x288 with 1 Axes>"
      ]
     },
     "metadata": {
      "needs_background": "light"
     },
     "output_type": "display_data"
    },
    {
     "data": {
      "image/png": "[encoded data removed]",
      "text/plain": [
       "<Figure size 432x288 with 1 Axes>"
      ]
     },
     "metadata": {
      "needs_background": "light"
     },
     "output_type": "display_data"
    },
    {
     "data": {
      "text/plain": [
       "<Figure size 432x288 with 0 Axes>"
      ]
     },
     "metadata": {},
     "output_type": "display_data"
    }
   ],
   "source": [
    "for i in range (len (data_x)) :\n",
    "    plt.bar (data_x.columns.values, data_x.values [i])\n",
    "    plt.title (data_y.values [i])\n",
    "    plt.figure ()"
   ]
  },
  {
   "cell_type": "markdown",
   "id": "26c9b9e0-d868-442e-bd0c-080d32fa8858",
   "metadata": {},
   "source": [
    "#### **Find Probability of Long, Sweet and Yellow**"
   ]
  },
  {
   "cell_type": "code",
   "execution_count": 7,
   "id": "ab245642-8714-4808-81b3-3405f71f160a",
   "metadata": {},
   "outputs": [],
   "source": [
    "total_sum = np.sum (data_x.values)\n",
    "sum_of_columns = np.sum (data_x.values, axis = 0)\n",
    "\n",
    "probability_long = sum_of_columns [0]/total_sum\n",
    "probability_sweet = sum_of_columns [1]/total_sum\n",
    "probability_yellow = sum_of_columns [2]/total_sum"
   ]
  },
  {
   "cell_type": "code",
   "execution_count": 8,
   "id": "13ba9e39-316b-4092-9113-522d2ce09da5",
   "metadata": {},
   "outputs": [],
   "source": [
    "probability_orange = 1/3\n",
    "probability_banana = 2/3\n",
    "probability_other = 1/3"
   ]
  },
  {
   "cell_type": "code",
   "execution_count": 9,
   "id": "d3987c40-5113-43cf-b7c3-db46f1fb4726",
   "metadata": {},
   "outputs": [
    {
     "name": "stdout",
     "output_type": "stream",
     "text": [
      "0.375\n",
      "0.375\n",
      "0.25\n"
     ]
    }
   ],
   "source": [
    "print (probability_long)\n",
    "print (probability_sweet)\n",
    "print (probability_yellow)"
   ]
  },
  {
   "cell_type": "markdown",
   "id": "18226ed1-da5c-4551-830d-67603b487811",
   "metadata": {},
   "source": [
    "#### **Find Conditional Probabilities**"
   ]
  },
  {
   "cell_type": "code",
   "execution_count": 10,
   "id": "badd1da5-ad89-4dda-8600-88bac21120c6",
   "metadata": {},
   "outputs": [],
   "source": [
    "# Probability of Attributes given Banana\n",
    "probability_long_banana = 2/6\n",
    "probability_sweet_banana = 1/6\n",
    "probability_yellow_banana = 2/6\n",
    "\n",
    "# Probability of Attributes given Orange\n",
    "probability_long_orange = 0/3\n",
    "probability_sweet_orange = 1/3\n",
    "probability_yellow_orange = 0/3\n",
    "\n",
    "# Probability of Attributes given Others\n",
    "probability_long_other = 1/3\n",
    "probability_sweet_other = 1/3\n",
    "probability_yellow_other = 0/3"
   ]
  },
  {
   "cell_type": "code",
   "execution_count": 11,
   "id": "7ee86280-8f6e-470f-bb38-ba9c78347c7e",
   "metadata": {},
   "outputs": [
    {
     "data": {
      "text/plain": [
       "(   Long  Sweet  Yellow\n",
       " 0     0      1       0\n",
       " 1     1      0       0,\n",
       "    Fruits\n",
       " 0  Orange\n",
       " 1  Banana)"
      ]
     },
     "execution_count": 11,
     "metadata": {},
     "output_type": "execute_result"
    }
   ],
   "source": [
    "data_test_x = pd.read_csv (os.path.join (\"datasets\", \"fruits_naive_bayes_test_x.csv\"))\n",
    "data_test_y = pd.read_csv (os.path.join (\"datasets\", \"fruits_naive_bayes_test_y.csv\"))\n",
    "data_test_x, data_test_y"
   ]
  },
  {
   "cell_type": "code",
   "execution_count": 158,
   "id": "8c4758c6-b75d-4b36-a217-e88dc32dbe45",
   "metadata": {},
   "outputs": [],
   "source": [
    "def predict (p_a_b, p_b, p_a) :\n",
    "    return p_a_b * p_b / p_a    "
   ]
  },
  {
   "cell_type": "code",
   "execution_count": 13,
   "id": "a2964d81-c274-4b4d-bd77-4a140daebeb1",
   "metadata": {},
   "outputs": [
    {
     "name": "stdout",
     "output_type": "stream",
     "text": [
      "For First Test Case\n",
      "Probability of being Banana :  0.1111111111111111\n",
      "Probability of being Orange :  0.1111111111111111\n",
      "For Second Test Case\n",
      "Probability of being Banana :  0.2222222222222222\n",
      "Probability of being Orange :  0.0\n",
      "For Third Test Case\n",
      "Probability of being Banana :  0.07407407407407407\n",
      "Probability of being Orange :  0.0\n"
     ]
    }
   ],
   "source": [
    "print (\"For First Test Case\")\n",
    "print (\"Probability of being Banana : \",  (probability_sweet_banana * probability_banana))\n",
    "print (\"Probability of being Orange : \",  (probability_sweet_orange * probability_orange))\n",
    "\n",
    "print (\"For Second Test Case\")\n",
    "print (\"Probability of being Banana : \",  (probability_long_banana * probability_banana))\n",
    "print (\"Probability of being Orange : \",  (probability_long_orange * probability_orange))\n",
    "\n",
    "print (\"For Third Test Case\")\n",
    "print (\"Probability of being Banana : \",  (probability_long_banana * probability_yellow_banana * probability_banana))\n",
    "print (\"Probability of being Orange : \",  (probability_long_orange * probability_yellow_orange * probability_orange))"
   ]
  }
 ],
 "metadata": {
  "kernelspec": {
   "display_name": "Python 3",
   "language": "python",
   "name": "python3"
  },
  "language_info": {
   "codemirror_mode": {
    "name": "ipython",
    "version": 3
   },
   "file_extension": ".py",
   "mimetype": "text/x-python",
   "name": "python",
   "nbconvert_exporter": "python",
   "pygments_lexer": "ipython3",
   "version": "3.8.8"
  }
 },
 "nbformat": 4,
 "nbformat_minor": 5
}
